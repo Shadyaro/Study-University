{
 "cells": [
  {
   "cell_type": "markdown",
   "id": "cf948cc0",
   "metadata": {},
   "source": [
    "## Simple Calculation"
   ]
  },
  {
   "cell_type": "code",
   "execution_count": 1,
   "id": "b6612451",
   "metadata": {},
   "outputs": [
    {
     "data": {
      "text/plain": [
       "4"
      ]
     },
     "execution_count": 1,
     "metadata": {},
     "output_type": "execute_result"
    }
   ],
   "source": [
    "2 + 2"
   ]
  },
  {
   "cell_type": "code",
   "execution_count": 2,
   "id": "97e9e3ab",
   "metadata": {},
   "outputs": [
    {
     "data": {
      "text/plain": [
       "2.3333333333333335"
      ]
     },
     "execution_count": 2,
     "metadata": {},
     "output_type": "execute_result"
    }
   ],
   "source": [
    "7 / 3"
   ]
  },
  {
   "cell_type": "code",
   "execution_count": 3,
   "id": "2e82835a",
   "metadata": {},
   "outputs": [],
   "source": [
    "x = y = z = 0"
   ]
  },
  {
   "cell_type": "code",
   "execution_count": 4,
   "id": "612c9a4b",
   "metadata": {},
   "outputs": [
    {
     "data": {
      "text/plain": [
       "0"
      ]
     },
     "execution_count": 4,
     "metadata": {},
     "output_type": "execute_result"
    }
   ],
   "source": [
    "x"
   ]
  },
  {
   "cell_type": "code",
   "execution_count": 5,
   "id": "2e3b9dbf",
   "metadata": {},
   "outputs": [
    {
     "data": {
      "text/plain": [
       "0"
      ]
     },
     "execution_count": 5,
     "metadata": {},
     "output_type": "execute_result"
    }
   ],
   "source": [
    "y"
   ]
  },
  {
   "cell_type": "code",
   "execution_count": 6,
   "id": "1a692115",
   "metadata": {},
   "outputs": [
    {
     "data": {
      "text/plain": [
       "0"
      ]
     },
     "execution_count": 6,
     "metadata": {},
     "output_type": "execute_result"
    }
   ],
   "source": [
    "z"
   ]
  },
  {
   "cell_type": "markdown",
   "id": "61033ee5",
   "metadata": {},
   "source": [
    "## Variable"
   ]
  },
  {
   "cell_type": "code",
   "execution_count": 7,
   "id": "a0acc2d7",
   "metadata": {},
   "outputs": [],
   "source": [
    "name = \"soyanswartz\""
   ]
  },
  {
   "cell_type": "code",
   "execution_count": 9,
   "id": "1f64e154",
   "metadata": {},
   "outputs": [
    {
     "name": "stdout",
     "output_type": "stream",
     "text": [
      "0\n",
      "soyanswartz\n"
     ]
    }
   ],
   "source": [
    "## print(x)print(name) ## error without semicolon\n",
    "print(x);print(name)"
   ]
  },
  {
   "cell_type": "code",
   "execution_count": 10,
   "id": "1044f26e",
   "metadata": {},
   "outputs": [
    {
     "name": "stdout",
     "output_type": "stream",
     "text": [
      "Hello, World!\n"
     ]
    }
   ],
   "source": [
    "print(\"Hello, World!\")"
   ]
  },
  {
   "cell_type": "markdown",
   "id": "3606241b",
   "metadata": {},
   "source": [
    "## Array"
   ]
  },
  {
   "cell_type": "code",
   "execution_count": 12,
   "id": "84435abf",
   "metadata": {},
   "outputs": [
    {
     "name": "stdout",
     "output_type": "stream",
     "text": [
      "2\n"
     ]
    }
   ],
   "source": [
    "'''\n",
    "array -> [1, 2, 3, 4, 5]\n",
    "\n",
    "index -> [0, 1, 2, 3, 4]\n",
    "\n",
    "'''\n",
    "\n",
    "## creating array\n",
    "a = [1, 2, 3, 4, 5]\n",
    "\n",
    "## printing second element on the array\n",
    "print(a[1])  # number 2"
   ]
  },
  {
   "cell_type": "code",
   "execution_count": 13,
   "id": "732a431e",
   "metadata": {},
   "outputs": [
    {
     "name": "stdout",
     "output_type": "stream",
     "text": [
      "2\n"
     ]
    }
   ],
   "source": [
    "## creating empty array\n",
    "some_list = []\n",
    "\n",
    "## adding \"foo\" string value to the array\n",
    "some_list.append(\"foo\")\n",
    "\n",
    "## adding 12 int value to the array\n",
    "some_list.append(12)\n",
    "\n",
    "## printing the length of the array\n",
    "print(len(some_list))  # 2"
   ]
  },
  {
   "cell_type": "code",
   "execution_count": 26,
   "id": "52923a2a",
   "metadata": {},
   "outputs": [
    {
     "name": "stdout",
     "output_type": "stream",
     "text": [
      "2\n"
     ]
    }
   ],
   "source": [
    "x = [2, 3, 4, 5] \n",
    "y = [\"d\", \"f\"]\n",
    "\n",
    "Firstnumber = x[0]\n",
    "\n",
    "print(Firstnumber)"
   ]
  },
  {
   "cell_type": "code",
   "execution_count": 27,
   "id": "97c49e89",
   "metadata": {},
   "outputs": [
    {
     "name": "stdout",
     "output_type": "stream",
     "text": [
      "d\n"
     ]
    }
   ],
   "source": [
    "Lastnumber = y[0]\n",
    "print(Lastnumber)"
   ]
  },
  {
   "cell_type": "code",
   "execution_count": 28,
   "id": "11fb06ba",
   "metadata": {},
   "outputs": [
    {
     "name": "stdout",
     "output_type": "stream",
     "text": [
      "before appending (2):  4\n",
      "after appending (2): 5\n"
     ]
    }
   ],
   "source": [
    "## append() --> Adds an element at the end of the list\n",
    "\n",
    "print(\"before appending (2): \", len(x))\n",
    "\n",
    "x.append(2)\n",
    "\n",
    "\n",
    "## Len() uses to know the length of an array or string\n",
    "print(\"after appending (2):\", len(x))"
   ]
  },
  {
   "cell_type": "markdown",
   "id": "d8c3e55e",
   "metadata": {},
   "source": [
    "## Different Type of Function\n",
    "* upper()\n",
    "* lower()\n",
    "* capitalize()\n",
    "* count(s)\n",
    "* find(s)\n",
    "* index(s)\n",
    "* strip(): for removing spaces before the text\n",
    "* replace(a, b)\n",
    "* split()\n",
    "* join()"
   ]
  },
  {
   "cell_type": "code",
   "execution_count": 37,
   "id": "1dc45aa0",
   "metadata": {},
   "outputs": [
    {
     "name": "stdout",
     "output_type": "stream",
     "text": [
      "changing to upper case:  HELLO, WORLD!\n",
      "-----------------------\n",
      "changing to lower case:  hello, world!\n",
      "-----------------------\n",
      "capitalize the value:  Hello, world!\n",
      "-----------------------\n",
      "2\n",
      "-----------------------\n",
      "1\n",
      "-----------------------\n",
      "2\n"
     ]
    }
   ],
   "source": [
    "love = \"hello, World!\"\n",
    "\n",
    "# upper()\n",
    "print(\"changing to upper case: \", love.upper()) # HELLO, WORLD!\n",
    "print(\"-----------------------\")\n",
    "\n",
    "\n",
    "\n",
    "# lower()\n",
    "print(\"changing to lower case: \", love.lower()) # hello, world!\n",
    "print(\"-----------------------\")\n",
    "\n",
    "\n",
    "\n",
    "# capitalize()\n",
    "print(\"capitalize the value: \", love.capitalize()) # Hello, world!\n",
    "print(\"-----------------------\")\n",
    "\n",
    "\n",
    "\n",
    "# count()\n",
    "print(love.count('o')) # 2\n",
    "print(\"-----------------------\")\n",
    "\n",
    "\n",
    "\n",
    "# find() # answear is output in form of index\n",
    "print(love.find(\"e\", 0, 4)) # 1\n",
    "print(\"-----------------------\")\n",
    "\n",
    "\n",
    "\n",
    "# index()\n",
    "print(love.index(\"l\")) # 2"
   ]
  },
  {
   "cell_type": "code",
   "execution_count": 64,
   "id": "d825bb50",
   "metadata": {},
   "outputs": [
    {
     "name": "stdout",
     "output_type": "stream",
     "text": [
      "before strip:       lol   \n",
      "after strip:  <built-in method strip of str object at 0x7ff3d3e78030>\n",
      "after strip:  lol\n",
      "------------------------------------------\n",
      "splitting the spam list base on space:  ['A', 'B', 'C', 'D']\n",
      "splitting the spam list base on space:  ['E', 'F', 'G', 'H']\n",
      "------------------------------------------\n",
      "lovee\n",
      "------------------------------------------\n",
      "Apples taste Good.\n",
      "Replacing \"Apples\" with \"Bananas\":  Bananas taste Good.\n"
     ]
    }
   ],
   "source": [
    "# strip(): for removing spaces before the text\u000b",
    "replace(a, b)\n",
    "lol = '     lol   '\n",
    "print(\"before strip: \", lol) # normal output =      lol   \n",
    "\n",
    "print(\"after strip: \", lol.strip) # strip output = <built-in method strip of str object at 0x7ff3fa941170>\n",
    "\n",
    "x = lol.strip()\n",
    "\n",
    "print(\"after strip: \", x)\n",
    "\n",
    "\n",
    "\n",
    "\n",
    "\n",
    "print(\"------------------------------------------\")\n",
    "# split()\n",
    "spam = \"A B C D\"\n",
    "eggs = \"E-F-G-H\"\n",
    "\n",
    "### the split() function will return a list\n",
    "spam_list = spam.split()\n",
    "eggs_list = eggs.split(\"-\")\n",
    "\n",
    "print(\"splitting the spam list base on space: \", spam_list)\n",
    "print(\"splitting the spam list base on space: \", eggs_list)\n",
    "\n",
    "\n",
    "\n",
    "\n",
    "print(\"------------------------------------------\")\n",
    "# join()\n",
    "list1 = ['l','o','v','e', 'e']  \n",
    "print(\"\".join(list1)) \n",
    "\n",
    "\n",
    "\n",
    "\n",
    "print(\"------------------------------------------\")\n",
    "# replace()\n",
    "text = \"Apples taste Good.\"\n",
    "print(text)\n",
    "print(\"Replacing \\\"Apples\\\" with \\\"Bananas\\\": \", text.replace('Apples', 'Bananas'))"
   ]
  },
  {
   "cell_type": "markdown",
   "id": "545db10f",
   "metadata": {},
   "source": [
    "## Numpy"
   ]
  },
  {
   "cell_type": "code",
   "execution_count": 51,
   "id": "d5619fa9",
   "metadata": {},
   "outputs": [
    {
     "name": "stdout",
     "output_type": "stream",
     "text": [
      "[1 2 3]\n",
      "[4 5 6]\n"
     ]
    }
   ],
   "source": [
    "import numpy as np\n",
    "\n",
    "## the length of this two array should be equal in size\n",
    "arr = np.array([[1,2,3], [4,5,6]])\n",
    "\n",
    "for x in arr:\n",
    "    print(x)"
   ]
  },
  {
   "cell_type": "code",
   "execution_count": 52,
   "id": "a4fddce2",
   "metadata": {},
   "outputs": [
    {
     "name": "stdout",
     "output_type": "stream",
     "text": [
      "6\n"
     ]
    }
   ],
   "source": [
    "print(arr[1][2])"
   ]
  },
  {
   "cell_type": "markdown",
   "id": "e197d41b",
   "metadata": {},
   "source": [
    "## If Statement"
   ]
  },
  {
   "cell_type": "code",
   "execution_count": 53,
   "id": "fb70263a",
   "metadata": {},
   "outputs": [
    {
     "name": "stdout",
     "output_type": "stream",
     "text": [
      "zero\n"
     ]
    }
   ],
   "source": [
    "# if, if/else, if/elif/else\n",
    "a = 0\n",
    "\n",
    "if a==0:\n",
    "    print(\"zero\")\n",
    "    \n",
    "elif a > 0:\n",
    "    print(\"positive number\")\n",
    "    \n",
    "else:\n",
    "    print(\"negative number\")"
   ]
  },
  {
   "cell_type": "code",
   "execution_count": 65,
   "id": "a79d6166",
   "metadata": {},
   "outputs": [],
   "source": [
    "## While Loop"
   ]
  },
  {
   "cell_type": "code",
   "execution_count": 55,
   "id": "147e4d53",
   "metadata": {},
   "outputs": [
    {
     "name": "stdout",
     "output_type": "stream",
     "text": [
      "0\n",
      "1\n",
      "2\n",
      "3\n",
      "4\n",
      "5\n",
      "6\n",
      "7\n",
      "8\n",
      "9\n"
     ]
    }
   ],
   "source": [
    "# while loops\n",
    "\n",
    "counter = 0\n",
    "\n",
    "while counter < 10:\n",
    "    print(counter)\n",
    "    counter += 1\n"
   ]
  },
  {
   "cell_type": "markdown",
   "id": "d6a208d2",
   "metadata": {},
   "source": [
    "## For Loop"
   ]
  },
  {
   "cell_type": "code",
   "execution_count": 59,
   "id": "3397a844",
   "metadata": {},
   "outputs": [
    {
     "name": "stdout",
     "output_type": "stream",
     "text": [
      "0\n",
      "1\n",
      "2\n",
      "3\n",
      "4\n",
      "5\n",
      "6\n",
      "7\n",
      "8\n",
      "9\n"
     ]
    }
   ],
   "source": [
    "# for loops\n",
    "\n",
    "for a in range(10):\n",
    "    print(a)"
   ]
  },
  {
   "cell_type": "markdown",
   "id": "f3866c74",
   "metadata": {},
   "source": [
    "## For Loop with range() function"
   ]
  },
  {
   "cell_type": "code",
   "execution_count": 57,
   "id": "df96c8fe",
   "metadata": {},
   "outputs": [
    {
     "name": "stdout",
     "output_type": "stream",
     "text": [
      "3\n",
      "1\n",
      "4\n",
      "1\n",
      "5\n",
      "9\n"
     ]
    }
   ],
   "source": [
    "# Common for loop idiom:\n",
    "\n",
    "a = [3, 1, 4, 1, 5, 9]\n",
    "\n",
    "for i in range(len(a)):\n",
    "  print(a[i])"
   ]
  },
  {
   "cell_type": "markdown",
   "id": "e700df0e",
   "metadata": {},
   "source": [
    "## References\n",
    "\n",
    "* Python Homepage\n",
    "    * http://www.python.org\n",
    "    * http://its2.unc.edu/divisions/rc/training/scientific/short_courses/Python_intro.ppt\n",
    "\n",
    "* Python Tutorial\n",
    "\t* http://docs.python.org/tutorial/\n",
    "\n",
    "* Python Documentation\n",
    "\t* http://www.python.org/doc\n",
    "\n",
    "* Python Library References\n",
    "    * http://docs.python.org/release/2.5.2/lib/lib.html\n",
    "\n",
    "* Python Add-on Packages:\n",
    "    * http://pypi.python.org/pypi\t"
   ]
  }
 ],
 "metadata": {
  "kernelspec": {
   "display_name": "Python 3 (ipykernel)",
   "language": "python",
   "name": "python3"
  },
  "language_info": {
   "codemirror_mode": {
    "name": "ipython",
    "version": 3
   },
   "file_extension": ".py",
   "mimetype": "text/x-python",
   "name": "python",
   "nbconvert_exporter": "python",
   "pygments_lexer": "ipython3",
   "version": "3.9.7"
  }
 },
 "nbformat": 4,
 "nbformat_minor": 5
}
