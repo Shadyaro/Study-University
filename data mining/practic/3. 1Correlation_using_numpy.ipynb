{
 "cells": [
  {
   "cell_type": "markdown",
   "id": "13471e85",
   "metadata": {},
   "source": [
    "## Finding Correlation Using Numpy\n",
    "\n",
    "`corrcoef(x, y)` use for find correlation between equal array "
   ]
  },
  {
   "cell_type": "code",
   "execution_count": 4,
   "id": "372dddd1",
   "metadata": {},
   "outputs": [],
   "source": [
    "import numpy as np"
   ]
  },
  {
   "cell_type": "code",
   "execution_count": 5,
   "id": "ad26b9f0",
   "metadata": {},
   "outputs": [],
   "source": [
    "# Create two sets of data\n",
    "x = [1, 2, 3, 4, 5]\n",
    "y = [5, 4, 3, 2, 1]"
   ]
  },
  {
   "cell_type": "code",
   "execution_count": 6,
   "id": "5640c571",
   "metadata": {},
   "outputs": [],
   "source": [
    "# Calculate the correlation coefficient\n",
    "corr = np.corrcoef(x, y)"
   ]
  },
  {
   "cell_type": "code",
   "execution_count": 7,
   "id": "1f49619e",
   "metadata": {},
   "outputs": [
    {
     "name": "stdout",
     "output_type": "stream",
     "text": [
      "[[ 1. -1.]\n",
      " [-1.  1.]]\n"
     ]
    }
   ],
   "source": [
    "# Print the correlation coefficient\n",
    "print(corr)\n",
    "\n",
    "## x is positive\n",
    "## y is negative"
   ]
  }
 ],
 "metadata": {
  "kernelspec": {
   "display_name": "Python 3 (ipykernel)",
   "language": "python",
   "name": "python3"
  },
  "language_info": {
   "codemirror_mode": {
    "name": "ipython",
    "version": 3
   },
   "file_extension": ".py",
   "mimetype": "text/x-python",
   "name": "python",
   "nbconvert_exporter": "python",
   "pygments_lexer": "ipython3",
   "version": "3.9.7"
  }
 },
 "nbformat": 4,
 "nbformat_minor": 5
}
