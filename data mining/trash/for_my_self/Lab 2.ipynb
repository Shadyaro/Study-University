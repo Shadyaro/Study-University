{
 "cells": [
  {
   "cell_type": "code",
   "execution_count": 3,
   "id": "a0789486",
   "metadata": {},
   "outputs": [],
   "source": [
    "import numpy as np\n",
    "from scipy import stats as st\n",
    "import matplotlib.pyplot as plt"
   ]
  },
  {
   "cell_type": "code",
   "execution_count": 4,
   "id": "26ff12e9",
   "metadata": {},
   "outputs": [],
   "source": [
    "ArrVar=np.array([[  0,   1,   2,   3,   4],\n",
    "       [5,   6, 7,   8, 9],\n",
    "       [10,  11, 12,  13, 14]])"
   ]
  },
  {
   "cell_type": "code",
   "execution_count": 5,
   "id": "ba01d6ce",
   "metadata": {},
   "outputs": [
    {
     "data": {
      "text/plain": [
       "array([[ 0,  1,  2,  3,  4],\n",
       "       [ 5,  6,  7,  8,  9],\n",
       "       [10, 11, 12, 13, 14]])"
      ]
     },
     "execution_count": 5,
     "metadata": {},
     "output_type": "execute_result"
    }
   ],
   "source": [
    "ArrVar"
   ]
  },
  {
   "cell_type": "markdown",
   "id": "5d347aff",
   "metadata": {},
   "source": [
    "# Some Numpy Features"
   ]
  },
  {
   "cell_type": "code",
   "execution_count": 6,
   "id": "853f8d3c",
   "metadata": {},
   "outputs": [
    {
     "data": {
      "text/plain": [
       "array([0, 1, 2, 3, 4])"
      ]
     },
     "execution_count": 6,
     "metadata": {},
     "output_type": "execute_result"
    }
   ],
   "source": [
    "ArrVar[0,:]"
   ]
  },
  {
   "cell_type": "code",
   "execution_count": 7,
   "id": "1ddff908",
   "metadata": {},
   "outputs": [
    {
     "data": {
      "text/plain": [
       "array([5, 6, 7, 8, 9])"
      ]
     },
     "execution_count": 7,
     "metadata": {},
     "output_type": "execute_result"
    }
   ],
   "source": [
    "ArrVar[1,:]"
   ]
  },
  {
   "cell_type": "code",
   "execution_count": 8,
   "id": "d3a84c92",
   "metadata": {},
   "outputs": [
    {
     "data": {
      "text/plain": [
       "array([ 0,  1,  2,  3,  4,  5,  6,  7,  8,  9, 10, 11, 12, 13, 14])"
      ]
     },
     "execution_count": 8,
     "metadata": {},
     "output_type": "execute_result"
    }
   ],
   "source": [
    "np.reshape(ArrVar, 15)"
   ]
  },
  {
   "cell_type": "code",
   "execution_count": 9,
   "id": "9fce0617",
   "metadata": {},
   "outputs": [
    {
     "data": {
      "text/plain": [
       "array([[ 0,  1,  2,  3,  4],\n",
       "       [ 5,  6,  7,  8,  9],\n",
       "       [10, 11, 12, 13, 14]])"
      ]
     },
     "execution_count": 9,
     "metadata": {},
     "output_type": "execute_result"
    }
   ],
   "source": [
    "np.reshape(ArrVar, (3,5))"
   ]
  },
  {
   "cell_type": "code",
   "execution_count": 10,
   "id": "fe1423f2",
   "metadata": {},
   "outputs": [
    {
     "data": {
      "text/plain": [
       "array([ 4,  9, 14])"
      ]
     },
     "execution_count": 10,
     "metadata": {},
     "output_type": "execute_result"
    }
   ],
   "source": [
    "np.max(ArrVar, axis=1) ## when axis=1 it would take the maximum of each row, but when axis=0 it would take the maximum row"
   ]
  },
  {
   "cell_type": "code",
   "execution_count": 11,
   "id": "40ae98d2",
   "metadata": {},
   "outputs": [
    {
     "data": {
      "text/plain": [
       "array([ 0,  5, 10])"
      ]
     },
     "execution_count": 11,
     "metadata": {},
     "output_type": "execute_result"
    }
   ],
   "source": [
    "np.min(ArrVar, axis=1) "
   ]
  },
  {
   "cell_type": "code",
   "execution_count": 12,
   "id": "80b25ae5",
   "metadata": {},
   "outputs": [
    {
     "data": {
      "text/plain": [
       "array([ 2.,  7., 12.])"
      ]
     },
     "execution_count": 12,
     "metadata": {},
     "output_type": "execute_result"
    }
   ],
   "source": [
    "np.mean(ArrVar, axis=1)"
   ]
  },
  {
   "cell_type": "code",
   "execution_count": 13,
   "id": "1d20c931",
   "metadata": {},
   "outputs": [
    {
     "data": {
      "text/plain": [
       "array([ 2.,  7., 12.])"
      ]
     },
     "execution_count": 13,
     "metadata": {},
     "output_type": "execute_result"
    }
   ],
   "source": [
    "np.median(ArrVar, axis=1)"
   ]
  },
  {
   "cell_type": "code",
   "execution_count": 14,
   "id": "0c2d6853",
   "metadata": {},
   "outputs": [
    {
     "name": "stderr",
     "output_type": "stream",
     "text": [
      "C:\\Users\\SSD Store\\AppData\\Local\\Temp\\ipykernel_1364\\1681616190.py:1: FutureWarning: Unlike other reduction functions (e.g. `skew`, `kurtosis`), the default behavior of `mode` typically preserves the axis it acts along. In SciPy 1.11.0, this behavior will change: the default value of `keepdims` will become False, the `axis` over which the statistic is taken will be eliminated, and the value None will no longer be accepted. Set `keepdims` to True or False to avoid this warning.\n",
      "  st.mode(ArrVar, axis=1) ## using scipy to find mode\n"
     ]
    },
    {
     "data": {
      "text/plain": [
       "ModeResult(mode=array([[ 0],\n",
       "       [ 5],\n",
       "       [10]]), count=array([[1],\n",
       "       [1],\n",
       "       [1]]))"
      ]
     },
     "execution_count": 14,
     "metadata": {},
     "output_type": "execute_result"
    }
   ],
   "source": [
    "st.mode(ArrVar, axis=1) ## using scipy to find mode"
   ]
  },
  {
   "cell_type": "code",
   "execution_count": 15,
   "id": "e686258c",
   "metadata": {},
   "outputs": [],
   "source": [
    "varr=np.std(ArrVar, axis=1) ## finding standerd deviation"
   ]
  },
  {
   "cell_type": "code",
   "execution_count": 16,
   "id": "55c2beb0",
   "metadata": {},
   "outputs": [
    {
     "data": {
      "text/plain": [
       "array([2., 2., 2.])"
      ]
     },
     "execution_count": 16,
     "metadata": {},
     "output_type": "execute_result"
    }
   ],
   "source": [
    "np.var(ArrVar, axis=1) ## varinace"
   ]
  },
  {
   "cell_type": "code",
   "execution_count": 17,
   "id": "c8bf7723",
   "metadata": {},
   "outputs": [
    {
     "data": {
      "text/plain": [
       "array([[0.77395605, 0.43887844, 0.85859792, ..., 0.2883281 , 0.6824955 ,\n",
       "        0.13975248],\n",
       "       [0.1999082 , 0.00736227, 0.78692438, ..., 0.08764992, 0.1180059 ,\n",
       "        0.96189766],\n",
       "       [0.90858069, 0.69970713, 0.26586996, ..., 0.5206724 , 0.43891146,\n",
       "        0.02161208],\n",
       "       ...,\n",
       "       [0.20168801, 0.73137131, 0.80558611, ..., 0.50637407, 0.88878777,\n",
       "        0.79239565],\n",
       "       [0.49882892, 0.2884926 , 0.17988646, ..., 0.78308831, 0.65559414,\n",
       "        0.69113201],\n",
       "       [0.22781115, 0.74182091, 0.23790989, ..., 0.47114914, 0.35318783,\n",
       "        0.61523005]])"
      ]
     },
     "execution_count": 17,
     "metadata": {},
     "output_type": "execute_result"
    }
   ],
   "source": [
    "rng = np.random.default_rng(seed=42) ## for creating random variables \n",
    "x=rng.random((100,50))\n",
    "x"
   ]
  },
  {
   "cell_type": "code",
   "execution_count": 18,
   "id": "2b077aad",
   "metadata": {},
   "outputs": [
    {
     "data": {
      "text/plain": [
       "array([[0.77395605, 0.43887844, 0.85859792, ..., 0.2883281 , 0.6824955 ,\n",
       "        0.13975248],\n",
       "       [0.1999082 , 0.00736227, 0.78692438, ..., 0.08764992, 0.1180059 ,\n",
       "        0.96189766],\n",
       "       [0.90858069, 0.69970713, 0.26586996, ..., 0.5206724 , 0.43891146,\n",
       "        0.02161208],\n",
       "       ...,\n",
       "       [0.20168801, 0.73137131, 0.80558611, ..., 0.50637407, 0.88878777,\n",
       "        0.79239565],\n",
       "       [0.49882892, 0.2884926 , 0.17988646, ..., 0.78308831, 0.65559414,\n",
       "        0.69113201],\n",
       "       [0.22781115, 0.74182091, 0.23790989, ..., 0.47114914, 0.35318783,\n",
       "        0.61523005]])"
      ]
     },
     "execution_count": 18,
     "metadata": {},
     "output_type": "execute_result"
    }
   ],
   "source": [
    "np.save('outfile',x)\n",
    "b = np.load('outfile.npy') \n",
    "b"
   ]
  },
  {
   "cell_type": "code",
   "execution_count": 19,
   "id": "77b07be4",
   "metadata": {},
   "outputs": [],
   "source": [
    "a=[1,2,3,4,5,6,7,8,9,10]\n",
    "b=[0,0.5,1,2,3,2,1,0.5,0,-1]"
   ]
  },
  {
   "cell_type": "code",
   "execution_count": 20,
   "id": "808b45b0",
   "metadata": {
    "scrolled": true
   },
   "outputs": [
    {
     "data": {
      "image/png": "[encoded data removed]",
      "text/plain": [
       "<Figure size 640x480 with 1 Axes>"
      ]
     },
     "metadata": {},
     "output_type": "display_data"
    }
   ],
   "source": [
    "plt.title(\"Matplotlib demo\") \n",
    "plt.xlabel(\"x axis caption\") \n",
    "plt.ylabel(\"y axis caption\") \n",
    "plt.plot(a,b) \n",
    "plt.show()"
   ]
  },
  {
   "cell_type": "code",
   "execution_count": 21,
   "id": "c44c53c6",
   "metadata": {},
   "outputs": [
    {
     "data": {
      "image/png": "[encoded data removed]",
      "text/plain": [
       "<Figure size 640x480 with 1 Axes>"
      ]
     },
     "metadata": {},
     "output_type": "display_data"
    }
   ],
   "source": [
    "a = np.array([22,87,5,43,56,73,55,54,11,20,51,5,79,31,27]) \n",
    "plt.hist(a, bins = [0,20,40,60,80,100]) \n",
    "plt.title(\"histogram title\") \n",
    "plt.xlabel(\"x axis caption\") \n",
    "plt.ylabel(\"y axis caption\")\n",
    "plt.show()"
   ]
  },
  {
   "cell_type": "code",
   "execution_count": 22,
   "id": "0cfeca28",
   "metadata": {},
   "outputs": [
    {
     "name": "stdout",
     "output_type": "stream",
     "text": [
      "[3 4 5 2 1]\n",
      "[  0  20  40  60  80 100]\n"
     ]
    }
   ],
   "source": [
    "a = np.array([22,87,5,43,56,73,55,54,11,20,51,5,79,31,27]) \n",
    "np.histogram(a,bins = [0,20,40,60,80,100]) \n",
    "hist,bins = np.histogram(a,bins = [0,20,40,60,80,100]) \n",
    "print (hist) \n",
    "print (bins) "
   ]
  },
  {
   "cell_type": "code",
   "execution_count": 24,
   "id": "1bcad76a",
   "metadata": {},
   "outputs": [
    {
     "data": {
      "image/png": "[encoded data removed]",
      "text/plain": [
       "<Figure size 640x480 with 1 Axes>"
      ]
     },
     "metadata": {},
     "output_type": "display_data"
    }
   ],
   "source": [
    "x = np.array([5,7,8,7,2,17,2,9,4,11,12,9,6])\n",
    "y = np.array([99,86,87,88,111,86,103,87,94,78,77,85,86])\n",
    "plt.scatter(x, y)\n",
    "plt.title(\"scatter title\") \n",
    "plt.xlabel(\"x axis caption\") \n",
    "plt.ylabel(\"y axis caption\")\n",
    "plt.show()"
   ]
  },
  {
   "cell_type": "markdown",
   "id": "a5d6d018",
   "metadata": {},
   "source": [
    "# Introducing Pandas Library "
   ]
  },
  {
   "cell_type": "code",
   "execution_count": null,
   "id": "dfbf0087",
   "metadata": {},
   "outputs": [],
   "source": [
    "import pandas as pd"
   ]
  },
  {
   "cell_type": "code",
   "execution_count": null,
   "id": "6508e0b8",
   "metadata": {},
   "outputs": [],
   "source": [
    "pd.DataFrame({'A': [1, 2, 3]})"
   ]
  },
  {
   "cell_type": "code",
   "execution_count": null,
   "id": "a67802bd",
   "metadata": {},
   "outputs": [],
   "source": [
    "var=pd.DataFrame = {\n",
    "  \"calories\": [420, 380, 390],\n",
    "  \"duration\": [50, 40, 45]\n",
    "}"
   ]
  },
  {
   "cell_type": "code",
   "execution_count": null,
   "id": "6a829ce0",
   "metadata": {},
   "outputs": [],
   "source": [
    "var"
   ]
  },
  {
   "cell_type": "code",
   "execution_count": null,
   "id": "f0bafe56",
   "metadata": {},
   "outputs": [],
   "source": [
    "x=[[1,2,3],[3,7,9]]"
   ]
  },
  {
   "cell_type": "code",
   "execution_count": null,
   "id": "4f620520",
   "metadata": {},
   "outputs": [],
   "source": [
    "var = pd.read_csv('data.csv')\n",
    "var"
   ]
  },
  {
   "cell_type": "code",
   "execution_count": null,
   "id": "9595b25a",
   "metadata": {},
   "outputs": [],
   "source": []
  }
 ],
 "metadata": {
  "kernelspec": {
   "display_name": "Python 3 (ipykernel)",
   "language": "python",
   "name": "python3"
  },
  "language_info": {
   "codemirror_mode": {
    "name": "ipython",
    "version": 3
   },
   "file_extension": ".py",
   "mimetype": "text/x-python",
   "name": "python",
   "nbconvert_exporter": "python",
   "pygments_lexer": "ipython3",
   "version": "3.9.13"
  }
 },
 "nbformat": 4,
 "nbformat_minor": 5
}
